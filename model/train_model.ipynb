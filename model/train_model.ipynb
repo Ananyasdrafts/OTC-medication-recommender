{
 "cells": [
  {
   "cell_type": "markdown",
   "metadata": {},
   "source": [
    "*******************************************************************\n",
    "Using Random Forest Classifier for Supervised Machine Learning to create an OTC medicine Reccommendation System\n",
    "*******************************************************************"
   ]
  },
  {
   "cell_type": "code",
   "execution_count": 1,
   "metadata": {},
   "outputs": [],
   "source": [
    "import pandas as pd\n",
    "import numpy as np\n",
    "\n",
    "\n",
    "from sklearn.ensemble import RandomForestClassifier\n",
    "from sklearn.model_selection import train_test_split\n",
    "from sklearn import metrics\n",
    "\n",
    "from sklearn.model_selection import RandomizedSearchCV\n",
    "from scipy.stats import randint\n",
    "\n",
    "\n",
    "from sklearn.preprocessing import LabelEncoder\n",
    "import joblib\n",
    "from sklearn.model_selection import GridSearchCV\n"
   ]
  },
  {
   "cell_type": "code",
   "execution_count": 2,
   "metadata": {},
   "outputs": [
    {
     "data": {
      "text/html": [
       "<div>\n",
       "<style scoped>\n",
       "    .dataframe tbody tr th:only-of-type {\n",
       "        vertical-align: middle;\n",
       "    }\n",
       "\n",
       "    .dataframe tbody tr th {\n",
       "        vertical-align: top;\n",
       "    }\n",
       "\n",
       "    .dataframe thead th {\n",
       "        text-align: right;\n",
       "    }\n",
       "</style>\n",
       "<table border=\"1\" class=\"dataframe\">\n",
       "  <thead>\n",
       "    <tr style=\"text-align: right;\">\n",
       "      <th></th>\n",
       "      <th>symptom1</th>\n",
       "      <th>symptom2</th>\n",
       "      <th>symptom3</th>\n",
       "      <th>symptom4</th>\n",
       "      <th>OTC Medicine</th>\n",
       "    </tr>\n",
       "  </thead>\n",
       "  <tbody>\n",
       "    <tr>\n",
       "      <th>0</th>\n",
       "      <td>Nausea</td>\n",
       "      <td>Muscle pain</td>\n",
       "      <td>Heartburn</td>\n",
       "      <td>Diarrhea</td>\n",
       "      <td>Antacid (Rolaids)</td>\n",
       "    </tr>\n",
       "    <tr>\n",
       "      <th>1</th>\n",
       "      <td>Sinus pressure</td>\n",
       "      <td>Acid reflux</td>\n",
       "      <td>Muscle pain</td>\n",
       "      <td>Fever</td>\n",
       "      <td>Electrolyte solution (Pedialyte)</td>\n",
       "    </tr>\n",
       "    <tr>\n",
       "      <th>2</th>\n",
       "      <td>Hangover</td>\n",
       "      <td>Allergic rash</td>\n",
       "      <td>Dry cough</td>\n",
       "      <td>Insomnia</td>\n",
       "      <td>Cold-EEZE</td>\n",
       "    </tr>\n",
       "    <tr>\n",
       "      <th>3</th>\n",
       "      <td>Common cold</td>\n",
       "      <td>Heartburn</td>\n",
       "      <td>Runny nose</td>\n",
       "      <td>Cough</td>\n",
       "      <td>Bismuth subsalicylate</td>\n",
       "    </tr>\n",
       "    <tr>\n",
       "      <th>4</th>\n",
       "      <td>Headache</td>\n",
       "      <td>Acid reflux</td>\n",
       "      <td>Nausea</td>\n",
       "      <td>Menstrual cramps</td>\n",
       "      <td>Antacid (Tums)</td>\n",
       "    </tr>\n",
       "  </tbody>\n",
       "</table>\n",
       "</div>"
      ],
      "text/plain": [
       "         symptom1       symptom2     symptom3          symptom4  \\\n",
       "0          Nausea    Muscle pain    Heartburn          Diarrhea   \n",
       "1  Sinus pressure    Acid reflux  Muscle pain             Fever   \n",
       "2        Hangover  Allergic rash    Dry cough          Insomnia   \n",
       "3     Common cold      Heartburn   Runny nose             Cough   \n",
       "4        Headache    Acid reflux       Nausea  Menstrual cramps   \n",
       "\n",
       "                       OTC Medicine  \n",
       "0                 Antacid (Rolaids)  \n",
       "1  Electrolyte solution (Pedialyte)  \n",
       "2                         Cold-EEZE  \n",
       "3             Bismuth subsalicylate  \n",
       "4                    Antacid (Tums)  "
      ]
     },
     "execution_count": 2,
     "metadata": {},
     "output_type": "execute_result"
    }
   ],
   "source": [
    "dp = r\"C:\\Users\\anany\\OneDrive\\Desktop\\combined_file_otc.csv\"\n",
    "df = pd.read_csv(dp)\n",
    "df.head()"
   ]
  },
  {
   "cell_type": "code",
   "execution_count": 3,
   "metadata": {},
   "outputs": [],
   "source": [
    "# Split dataset into features and target variable\n",
    "X = df[['symptom1', 'symptom2', 'symptom3', 'symptom4']]\n",
    "y = df['OTC Medicine']\n",
    "\n",
    "# Encode target variable to numerical labels\n",
    "label_encoder = LabelEncoder()\n",
    "y = label_encoder.fit_transform(y)\n",
    "\n",
    "X = pd.get_dummies(X, columns=['symptom1', 'symptom2', 'symptom3', 'symptom4'])\n",
    "\n"
   ]
  },
  {
   "cell_type": "code",
   "execution_count": 4,
   "metadata": {},
   "outputs": [],
   "source": [
    "# Split dataset into train and test sets\n",
    "X_train, X_test, y_train, y_test = train_test_split(X, y, test_size=0.2, random_state=42)\n"
   ]
  },
  {
   "cell_type": "code",
   "execution_count": 5,
   "metadata": {},
   "outputs": [],
   "source": [
    "# Ensure one-hot encoding is consistent between training and testing datasets\n",
    "missing_cols_train = set(X_train.columns) - set(X_test.columns)\n",
    "missing_cols_test = set(X_test.columns) - set(X_train.columns)\n",
    "\n",
    "for col in missing_cols_train:\n",
    "    X_test[col] = 0\n",
    "\n",
    "for col in missing_cols_test:\n",
    "    X_train[col] = 0\n",
    "\n",
    "# Ensure the order of columns is the same\n",
    "X_test = X_test[X_train.columns]"
   ]
  },
  {
   "cell_type": "code",
   "execution_count": 6,
   "metadata": {},
   "outputs": [],
   "source": [
    "rf = RandomForestClassifier()\n",
    "\n",
    "# Hyperparameter tuning using RandomizedSearchCV\n",
    "param_dist = {\n",
    "    'n_estimators': randint(50, 500),\n",
    "    'max_depth': randint(1, 20)\n",
    "}\n",
    "\n",
    "rand_search = RandomizedSearchCV(rf, param_distributions=param_dist, n_iter=5, cv=5, random_state=42)\n",
    "\n",
    "# Fit the RandomizedSearchCV object to the training data\n",
    "rand_search.fit(X_train, y_train)\n",
    "\n",
    "# Get the best model\n",
    "best_rf = rand_search.best_estimator_\n",
    "\n",
    "# Predict on the test set using the best model\n",
    "y_pred = best_rf.predict(X_test)\n",
    "\n",
    "# Convert the predictions back to original categorical labels\n",
    "y_pred_labels = label_encoder.inverse_transform(y_pred)\n",
    "\n",
    "\n",
    "\n"
   ]
  },
  {
   "cell_type": "code",
   "execution_count": 7,
   "metadata": {},
   "outputs": [
    {
     "data": {
      "text/plain": [
       "0.944553396327331"
      ]
     },
     "execution_count": 7,
     "metadata": {},
     "output_type": "execute_result"
    }
   ],
   "source": [
    "score = best_rf.score(X_train, y_train)\n",
    "score"
   ]
  },
  {
   "cell_type": "code",
   "execution_count": 8,
   "metadata": {},
   "outputs": [
    {
     "data": {
      "text/plain": [
       "['best_otc_recommendation_model.pkl']"
      ]
     },
     "execution_count": 8,
     "metadata": {},
     "output_type": "execute_result"
    }
   ],
   "source": [
    "joblib.dump(best_rf, 'best_otc_recommendation_model.pkl')"
   ]
  },
  {
   "cell_type": "code",
   "execution_count": 9,
   "metadata": {},
   "outputs": [
    {
     "data": {
      "text/plain": [
       "['label_encoder.pkl']"
      ]
     },
     "execution_count": 9,
     "metadata": {},
     "output_type": "execute_result"
    }
   ],
   "source": [
    "joblib.dump(label_encoder, 'label_encoder.pkl')\n"
   ]
  },
  {
   "cell_type": "markdown",
   "metadata": {},
   "source": [
    "********************************************\n",
    "LOADING AND RUNNING THE MODEL SAVED AND CREATED IN THE ABOVE CODE (OTC MEDCINE RECOMMENDATION MODEL)\n",
    "************************************************"
   ]
  },
  {
   "cell_type": "code",
   "execution_count": 2,
   "metadata": {},
   "outputs": [
    {
     "name": "stdout",
     "output_type": "stream",
     "text": [
      "The recommended OTC medicine for the symptoms ['Fever', 'Cough', 'Headache', 'Fatigue'] is Cold-EEZE.\n",
      "The recommended OTC medicine for the symptoms ['Itching', 'Skin Rash', 'Patches', 'Boils'] is Miconazole.\n"
     ]
    }
   ],
   "source": [
    "import pandas as pd\n",
    "import numpy as np\n",
    "import joblib\n",
    "from sklearn.preprocessing import LabelEncoder\n",
    "from sklearn.model_selection import train_test_split\n",
    "\n",
    "# Load the dataset\n",
    "dp = r\"C:\\Users\\anany\\OneDrive\\Desktop\\combined_file_otc.csv\"\n",
    "df = pd.read_csv(dp)\n",
    "\n",
    "# Split dataset into features and target variable\n",
    "X = df[['symptom1', 'symptom2', 'symptom3', 'symptom4']]\n",
    "y = df['OTC Medicine']\n",
    "\n",
    "# Encode target variable to numerical labels\n",
    "label_encoder = LabelEncoder()\n",
    "y = label_encoder.fit_transform(y)\n",
    "\n",
    "X = pd.get_dummies(X, columns=['symptom1', 'symptom2', 'symptom3', 'symptom4'])\n",
    "\n",
    "# Split dataset into train and test sets\n",
    "X_train, X_test, y_train, y_test = train_test_split(X, y, test_size=0.2, random_state=42)\n",
    "\n",
    "# Ensure one-hot encoding is consistent between training and testing datasets\n",
    "missing_cols_train = set(X_train.columns) - set(X_test.columns)\n",
    "missing_cols_test = set(X_test.columns) - set(X_train.columns)\n",
    "\n",
    "for col in missing_cols_train:\n",
    "    X_test[col] = 0\n",
    "\n",
    "for col in missing_cols_test:\n",
    "    X_train[col] = 0\n",
    "\n",
    "# Ensure the order of columns is the same\n",
    "X_test = X_test[X_train.columns]\n",
    "\n",
    "# Load the trained model\n",
    "best_rf = joblib.load('best_otc_recommendation_model.pkl')\n",
    "\n",
    "def predict_medicine(symptoms):\n",
    "    # Create a DataFrame from symptoms\n",
    "    df = pd.DataFrame([symptoms], columns=['symptom1', 'symptom2', 'symptom3', 'symptom4'])\n",
    "    \n",
    "    # One-hot encode the symptoms\n",
    "    df = pd.get_dummies(df, columns=['symptom1', 'symptom2', 'symptom3', 'symptom4'])\n",
    "    \n",
    "    # Align columns with training data\n",
    "    df = df.reindex(columns=X_train.columns, fill_value=0)\n",
    "    \n",
    "    # Predict the medicine\n",
    "    y_pred = best_rf.predict(df)\n",
    "    \n",
    "    # Convert the prediction to original categorical label\n",
    "    medicine = label_encoder.inverse_transform(y_pred)[0]\n",
    "    \n",
    "    return medicine\n",
    "\n",
    "# Test the prediction function\n",
    "symptoms1 = ['Fever', 'Cough', 'Headache', 'Fatigue']\n",
    "medicine = predict_medicine(symptoms1)\n",
    "print(f\"The recommended OTC medicine for the symptoms {symptoms1} is {medicine}.\")\n",
    "\n",
    "\n",
    "symptoms2 = ['Itching', 'Skin Rash', 'Patches', 'Boils']\n",
    "medicine = predict_medicine(symptoms2)\n",
    "print(f\"The recommended OTC medicine for the symptoms {symptoms2} is {medicine}.\")\n"
   ]
  }
 ],
 "metadata": {
  "kernelspec": {
   "display_name": "Python 3",
   "language": "python",
   "name": "python3"
  },
  "language_info": {
   "codemirror_mode": {
    "name": "ipython",
    "version": 3
   },
   "file_extension": ".py",
   "mimetype": "text/x-python",
   "name": "python",
   "nbconvert_exporter": "python",
   "pygments_lexer": "ipython3",
   "version": "3.11.5"
  },
  "orig_nbformat": 4
 },
 "nbformat": 4,
 "nbformat_minor": 2
}
